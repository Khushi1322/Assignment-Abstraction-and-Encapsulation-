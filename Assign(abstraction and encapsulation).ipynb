{
 "cells": [
  {
   "cell_type": "markdown",
   "id": "aa1bd212-1aed-4c42-ba31-97c19db3539a",
   "metadata": {},
   "source": [
    "Q1:What is abstraction in OOPs? explain with example."
   ]
  },
  {
   "cell_type": "markdown",
   "id": "3819bb8c-382c-4b89-91d6-3b26868207c4",
   "metadata": {},
   "source": [
    "it hides unnecessary code details from the user. when we do not want to give out sensetive parts \n",
    "of our code implementation and this is where data abstraction came.\n",
    "data abstraction in python can be achieved by creating abstract classes"
   ]
  },
  {
   "cell_type": "markdown",
   "id": "ae66a918-fb14-4284-ac32-e3ade1ae6528",
   "metadata": {},
   "source": [
    "Q2:Difference between encapsulation and absraction."
   ]
  },
  {
   "cell_type": "markdown",
   "id": "7ef01859-f40a-410f-91ea-e682788a84c9",
   "metadata": {},
   "source": [
    "abstraction is hiding the details and implementation of the code.\n",
    "encapsulation is hiding the data and controlling the visibility of the code."
   ]
  },
  {
   "cell_type": "markdown",
   "id": "dfde7a4d-5ec0-41e4-ba6f-6cc40d5040fe",
   "metadata": {},
   "source": [
    "abstarction is a design level process.\n",
    "encapsulation is an implementation level process."
   ]
  },
  {
   "cell_type": "markdown",
   "id": "af50a94e-5e6c-47d8-9db2-02532fa2e8c7",
   "metadata": {},
   "source": [
    "Q3:What is abc module in python ?why is it used?"
   ]
  },
  {
   "cell_type": "markdown",
   "id": "b0e70a76-810c-4e04-8db5-e002e441d94e",
   "metadata": {},
   "source": [
    "abc --> Abstract Base Classes"
   ]
  },
  {
   "cell_type": "markdown",
   "id": "00a2887d-d746-4181-93d1-e5bb63d7b7af",
   "metadata": {},
   "source": [
    "this module provides the infrastructure for defining abstract base classes in python."
   ]
  },
  {
   "cell_type": "code",
   "execution_count": 1,
   "id": "2108d06d-9a96-4aa4-90aa-f057032fea68",
   "metadata": {},
   "outputs": [],
   "source": [
    "from abc import ABC"
   ]
  },
  {
   "cell_type": "code",
   "execution_count": 2,
   "id": "c8b0834d-e61e-4933-bd87-c1a539e69342",
   "metadata": {},
   "outputs": [],
   "source": [
    "class MyABC(ABC):\n",
    "    pass"
   ]
  },
  {
   "cell_type": "markdown",
   "id": "3c3b4fbb-57a7-45b6-a1d7-165069a13cfd",
   "metadata": {},
   "source": [
    "Q4: How can we achive data abstraction?"
   ]
  },
  {
   "cell_type": "markdown",
   "id": "2e3b9a94-cf97-4f7e-a7b8-504cca756b5e",
   "metadata": {},
   "source": [
    "Data abstraction in Python can be achieved through creating abstract classes and inheriting them later. "
   ]
  },
  {
   "cell_type": "markdown",
   "id": "fc82bfda-dd5a-4259-b3f1-b5645db346f8",
   "metadata": {},
   "source": [
    "Q5: can we creat an instance of an abstract class?"
   ]
  },
  {
   "cell_type": "markdown",
   "id": "91cf7b17-8b57-4af1-8960-e1ab8dd6d195",
   "metadata": {},
   "source": [
    "abstract classes cannot be instantiated,but they can be subclassed."
   ]
  },
  {
   "cell_type": "code",
   "execution_count": null,
   "id": "e7305a64-3a6b-4ebe-886a-9c629898b6b7",
   "metadata": {},
   "outputs": [],
   "source": []
  }
 ],
 "metadata": {
  "kernelspec": {
   "display_name": "Python 3 (ipykernel)",
   "language": "python",
   "name": "python3"
  },
  "language_info": {
   "codemirror_mode": {
    "name": "ipython",
    "version": 3
   },
   "file_extension": ".py",
   "mimetype": "text/x-python",
   "name": "python",
   "nbconvert_exporter": "python",
   "pygments_lexer": "ipython3",
   "version": "3.10.8"
  }
 },
 "nbformat": 4,
 "nbformat_minor": 5
}
